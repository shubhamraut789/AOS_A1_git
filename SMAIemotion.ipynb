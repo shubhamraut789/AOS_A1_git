{
  "nbformat": 4,
  "nbformat_minor": 0,
  "metadata": {
    "colab": {
      "provenance": [],
      "gpuType": "T4",
      "authorship_tag": "ABX9TyM6/tXAEnpFkQULq8B/VZiA",
      "include_colab_link": true
    },
    "kernelspec": {
      "name": "python3",
      "display_name": "Python 3"
    },
    "language_info": {
      "name": "python"
    },
    "accelerator": "GPU"
  },
  "cells": [
    {
      "cell_type": "markdown",
      "metadata": {
        "id": "view-in-github",
        "colab_type": "text"
      },
      "source": [
        "<a href=\"https://colab.research.google.com/github/shubhamraut789/AOS_A1_git/blob/main/SMAIemotion.ipynb\" target=\"_parent\"><img src=\"https://colab.research.google.com/assets/colab-badge.svg\" alt=\"Open In Colab\"/></a>"
      ]
    },
    {
      "cell_type": "code",
      "execution_count": 1,
      "metadata": {
        "colab": {
          "base_uri": "https://localhost:8080/"
        },
        "id": "DtT_GurbLYBQ",
        "outputId": "0b1ba6dc-be48-4175-8884-1bc707edcce5"
      },
      "outputs": [
        {
          "output_type": "stream",
          "name": "stdout",
          "text": [
            "Drive already mounted at /content/drive; to attempt to forcibly remount, call drive.mount(\"/content/drive\", force_remount=True).\n",
            "✅ Extracted to: /content/emotion_dataset\n",
            "✅ GPU is enabled: Tesla T4\n"
          ]
        }
      ],
      "source": [
        "# ✅ 1. Mount Google Drive and Unzip Dataset\n",
        "from google.colab import drive\n",
        "import os\n",
        "import zipfile\n",
        "\n",
        "# Mount Google Drive\n",
        "drive.mount('/content/drive')\n",
        "\n",
        "# Correct zip path (must point to actual .zip file in MyDrive)\n",
        "zip_path = '/content/drive/MyDrive/emotion_dataset.zip'  # <- Update this if your zip has a different name\n",
        "extract_path = '/content/emotion_dataset'  # Extract to local Colab\n",
        "\n",
        "# Unzip\n",
        "with zipfile.ZipFile(zip_path, 'r') as zip_ref:\n",
        "    zip_ref.extractall(extract_path)\n",
        "\n",
        "print(\"✅ Extracted to:\", extract_path)\n",
        "\n",
        "# Set DATA_ROOT to extracted folder\n",
        "DATA_ROOT = \"/content/emotion_dataset/emotion_dataset\"\n",
        "\n",
        "# Validate dataset structure\n",
        "if not os.path.exists(os.path.join(DATA_ROOT, \"Train\")) or not os.path.exists(os.path.join(DATA_ROOT, \"Test\")):\n",
        "    raise RuntimeError(\"❌ 'emotion_dataset/Train' and 'emotion_dataset/Test' not found.\")\n",
        "\n",
        "import torch\n",
        "\n",
        "if torch.cuda.is_available():\n",
        "    print(\"✅ GPU is enabled:\", torch.cuda.get_device_name(0))\n",
        "else:\n",
        "    print(\"❌ GPU not available.\")"
      ]
    },
    {
      "cell_type": "code",
      "source": [
        "# ✅ 2. Import Libraries\n",
        "import glob\n",
        "import time\n",
        "import random\n",
        "import pandas as pd\n",
        "import matplotlib.pyplot as plt\n",
        "import seaborn as sns\n",
        "from collections import defaultdict\n",
        "from PIL import Image\n",
        "from IPython.display import display, HTML, Audio\n",
        "\n",
        "import torch\n",
        "import torch.nn as nn\n",
        "import torch.optim as optim\n",
        "from torch.utils.data import Dataset, DataLoader\n",
        "import torchvision.transforms as transforms\n",
        "import torchvision.models as models\n",
        "from sklearn.metrics import confusion_matrix, classification_report\n",
        "\n",
        "# ✅ Install and Login to Weights & Biases\n",
        "!pip install -q wandb\n",
        "import wandb\n",
        "wandb.login()\n",
        "\n",
        "class VGGFaceModel(nn.Module):\n",
        "    def __init__(self, num_classes=3):\n",
        "        super(VGGFaceModel, self).__init__()\n",
        "        base_model = models.vgg16(pretrained=True)\n",
        "        self.features = base_model.features\n",
        "        self.avgpool = base_model.avgpool  # ✅ This handles downsampling to (7x7)\n",
        "        in_features = base_model.classifier[0].in_features  # should be 25088\n",
        "        self.classifier = nn.Sequential(\n",
        "            nn.Linear(in_features, 4096),\n",
        "            nn.ReLU(True),\n",
        "            nn.Dropout(),\n",
        "            nn.Linear(4096, 4096),\n",
        "            nn.ReLU(True),\n",
        "            nn.Dropout(),\n",
        "            nn.Linear(4096, num_classes)\n",
        "        )\n",
        "\n",
        "    def forward(self, x):\n",
        "        x = self.features(x)\n",
        "        x = self.avgpool(x)  # ✅ Crucial downsampling\n",
        "        x = torch.flatten(x, 1)\n",
        "        x = self.classifier(x)\n",
        "        return x\n",
        "\n",
        "\n",
        "\n"
      ],
      "metadata": {
        "colab": {
          "base_uri": "https://localhost:8080/"
        },
        "id": "gKHGWLuxL-JW",
        "outputId": "8b238919-449b-467e-8ec7-a5da560aaf6d"
      },
      "execution_count": 10,
      "outputs": [
        {
          "output_type": "stream",
          "name": "stderr",
          "text": [
            "\u001b[34m\u001b[1mwandb\u001b[0m: \u001b[33mWARNING\u001b[0m Calling wandb.login() after wandb.init() has no effect.\n"
          ]
        }
      ]
    },
    {
      "cell_type": "code",
      "source": [
        "# ✅ 3. Configuration\n",
        "WANDB_PROJECT = \"EmotionRecognition\"\n",
        "BATCH_SIZE = 32\n",
        "NUM_CLASSES = 3\n",
        "EPOCHS = 10\n",
        "device = torch.device(\"cuda\" if torch.cuda.is_available() else \"cpu\")\n",
        "class_names = ['happy', 'sad', 'angry']\n",
        "class_to_idx = {name: idx for idx, name in enumerate(class_names)}"
      ],
      "metadata": {
        "id": "_Btpe9UaMEEo"
      },
      "execution_count": 11,
      "outputs": []
    },
    {
      "cell_type": "code",
      "source": [
        "# ✅ 4. Load Dataset\n",
        "\n",
        "def get_image_paths_and_labels(folder):\n",
        "    image_paths, labels = [], []\n",
        "    print(f\"\\n Scanning folder: {folder}\")\n",
        "    for emotion in class_names:\n",
        "        emotion_folder = os.path.join(folder, emotion)\n",
        "        if not os.path.exists(emotion_folder):\n",
        "            print(f\" Missing: {emotion_folder}\")\n",
        "            continue\n",
        "        emotion_files = glob.glob(os.path.join(emotion_folder, \"*\"))\n",
        "        print(f\" {emotion}: {len(emotion_files)} images\")\n",
        "        for img_path in emotion_files:\n",
        "            image_paths.append(img_path)\n",
        "            labels.append(class_to_idx[emotion])\n",
        "    print(f\" Loaded {len(image_paths)} images from {folder}\")\n",
        "    return image_paths, labels\n",
        "\n",
        "train_paths, train_labels = get_image_paths_and_labels(os.path.join(DATA_ROOT, \"Train\"))\n",
        "test_paths, test_labels = get_image_paths_and_labels(os.path.join(DATA_ROOT, \"Test\"))"
      ],
      "metadata": {
        "id": "iOu0zJppMNSn",
        "colab": {
          "base_uri": "https://localhost:8080/"
        },
        "outputId": "4275ff8a-9cfc-49c8-f6ff-776df5c8b6f9"
      },
      "execution_count": 12,
      "outputs": [
        {
          "output_type": "stream",
          "name": "stdout",
          "text": [
            "\n",
            " Scanning folder: /content/emotion_dataset/emotion_dataset/Train\n",
            " happy: 322 images\n",
            " sad: 262 images\n",
            " angry: 250 images\n",
            " Loaded 834 images from /content/emotion_dataset/emotion_dataset/Train\n",
            "\n",
            " Scanning folder: /content/emotion_dataset/emotion_dataset/Test\n",
            " happy: 78 images\n",
            " sad: 75 images\n",
            " angry: 63 images\n",
            " Loaded 216 images from /content/emotion_dataset/emotion_dataset/Test\n"
          ]
        }
      ]
    },
    {
      "cell_type": "code",
      "source": [
        "# ✅ 5. Dataset Class and Transforms\n",
        "class EmotionDataset(Dataset):\n",
        "    def __init__(self, image_paths, labels, transform=None):\n",
        "        self.image_paths = image_paths\n",
        "        self.labels = labels\n",
        "        self.transform = transform\n",
        "    def __len__(self):\n",
        "        return len(self.image_paths)\n",
        "    def __getitem__(self, idx):\n",
        "        img = Image.open(self.image_paths[idx]).convert(\"RGB\")\n",
        "        if self.transform:\n",
        "            img = self.transform(img)\n",
        "        return img, self.labels[idx]\n",
        "\n",
        "train_transform = transforms.Compose([\n",
        "    transforms.Resize((224, 224)),\n",
        "    transforms.RandomHorizontalFlip(),\n",
        "    transforms.RandomRotation(10),\n",
        "    transforms.ColorJitter(brightness=0.2, contrast=0.2),\n",
        "    transforms.ToTensor()\n",
        "])\n",
        "test_transform = transforms.Compose([\n",
        "    transforms.Resize((224, 224)),\n",
        "    transforms.ToTensor()\n",
        "])\n",
        "\n",
        "train_dataset = EmotionDataset(train_paths, train_labels, transform=train_transform)\n",
        "val_dataset = EmotionDataset(test_paths, test_labels, transform=test_transform)\n",
        "\n",
        "train_loader = DataLoader(train_dataset, batch_size=BATCH_SIZE, shuffle=True)\n",
        "val_loader = DataLoader(val_dataset, batch_size=BATCH_SIZE, shuffle=False)"
      ],
      "metadata": {
        "id": "SFW80jTHMSf5"
      },
      "execution_count": 13,
      "outputs": []
    },
    {
      "cell_type": "code",
      "source": [
        "# ✅ 6. Model Setup\n",
        "\n",
        "def modify_model(model, num_classes):\n",
        "    if hasattr(model, 'fc'):\n",
        "        in_features = model.fc.in_features\n",
        "        model.fc = nn.Linear(in_features, num_classes)\n",
        "    elif hasattr(model, 'classifier'):\n",
        "        in_features = model.classifier[-1].in_features\n",
        "        model.classifier[-1] = nn.Linear(in_features, num_classes)\n",
        "    return model\n",
        "\n",
        "def train(model, loader, optimizer, criterion):\n",
        "    model.train()\n",
        "    total_loss, correct = 0, 0\n",
        "    for imgs, labels in loader:\n",
        "        imgs, labels = imgs.to(device), labels.to(device)\n",
        "        optimizer.zero_grad()\n",
        "        outputs = model(imgs)\n",
        "        loss = criterion(outputs, labels)\n",
        "        loss.backward()\n",
        "        optimizer.step()\n",
        "        total_loss += loss.item()\n",
        "        correct += (outputs.argmax(1) == labels).sum().item()\n",
        "    return total_loss / len(loader), correct / len(loader.dataset)\n",
        "\n",
        "def evaluate(model, loader, criterion):\n",
        "    model.eval()\n",
        "    total_loss, correct = 0, 0\n",
        "    y_true, y_pred = [], []\n",
        "    with torch.no_grad():\n",
        "        for imgs, labels in loader:\n",
        "            imgs, labels = imgs.to(device), labels.to(device)\n",
        "            outputs = model(imgs)\n",
        "            loss = criterion(outputs, labels)\n",
        "            total_loss += loss.item()\n",
        "            preds = outputs.argmax(1)\n",
        "            correct += (preds == labels).sum().item()\n",
        "            y_true.extend(labels.cpu().numpy())\n",
        "            y_pred.extend(preds.cpu().numpy())\n",
        "    return total_loss / len(loader), correct / len(loader.dataset), y_true, y_pred"
      ],
      "metadata": {
        "id": "Obkfd5VhMXJm"
      },
      "execution_count": 14,
      "outputs": []
    },
    {
      "cell_type": "code",
      "source": [
        "# ✅ 7. Train and Evaluate\n",
        "model_results = {}\n",
        "model_metrics = defaultdict(list)\n",
        "model_conf_matrices = {}\n",
        "best_model = None\n",
        "best_acc = 0.0\n",
        "best_y_pred = []\n",
        "\n",
        "models_config = [\n",
        "    {\"name\": \"ResNet18_Pretrained\", \"model\": models.resnet18(weights=models.ResNet18_Weights.IMAGENET1K_V1)},\n",
        "    {\"name\": \"ResNet18_Scratch\", \"model\": models.resnet18(weights=None)},\n",
        "    {\"name\": \"VGGFace_Finetuned\", \"model\": VGGFaceModel(num_classes=NUM_CLASSES)}\n",
        "]\n",
        "\n",
        "for config in models_config:\n",
        "    print(f\"\\n Training {config['name']}...\")\n",
        "    wandb.init(\n",
        "        project=WANDB_PROJECT,\n",
        "        name=config[\"name\"],\n",
        "        config={\n",
        "            \"epochs\": EPOCHS,\n",
        "            \"batch_size\": BATCH_SIZE,\n",
        "            \"model\": config[\"name\"],\n",
        "            \"classes\": class_names\n",
        "        }\n",
        "    )\n",
        "    model = modify_model(config[\"model\"], NUM_CLASSES).to(device)\n",
        "    optimizer = optim.Adam(model.parameters(), lr=1e-3)\n",
        "    criterion = nn.CrossEntropyLoss()\n",
        "\n",
        "    train_accs, val_accs, train_losses, val_losses = [], [], [], []\n",
        "    start_time = time.time()\n",
        "\n",
        "    for epoch in range(EPOCHS):\n",
        "        train_loss, train_acc = train(model, train_loader, optimizer, criterion)\n",
        "        val_loss, val_acc, _, _ = evaluate(model, val_loader, criterion)\n",
        "        print(f\"Epoch {epoch+1}: Train Acc = {train_acc:.4f}, Val Acc = {val_acc:.4f}\")\n",
        "        wandb.log({\n",
        "            \"epoch\": epoch + 1,\n",
        "            \"train_loss\": train_loss,\n",
        "            \"train_acc\": train_acc,\n",
        "            \"val_loss\": val_loss,\n",
        "            \"val_acc\": val_acc\n",
        "        })\n",
        "\n",
        "        train_accs.append(train_acc)\n",
        "        val_accs.append(val_acc)\n",
        "        train_losses.append(train_loss)\n",
        "        val_losses.append(val_loss)\n",
        "\n",
        "    elapsed = time.time() - start_time\n",
        "    val_loss, final_acc, y_true, y_pred = evaluate(model, val_loader, criterion)\n",
        "\n",
        "    print(f\"\\n Time: {elapsed:.2f}s\")\n",
        "    print(\" Classification Report:\")\n",
        "    print(classification_report(y_true, y_pred, target_names=class_names))\n",
        "    #  Creative Element Bonus: Emotion Reactions\n",
        "    emotion_to_message = {\n",
        "        \"happy\": \"😊 You're glowing!\",\n",
        "        \"sad\": \"😢 Stay strong!\",\n",
        "        \"angry\": \"😠 Breathe and relax!\"\n",
        "    }\n",
        "\n",
        "    # Get the most frequent predicted emotion\n",
        "    from collections import Counter\n",
        "    pred_counts = Counter(y_pred)\n",
        "    most_common_idx = pred_counts.most_common(1)[0][0]\n",
        "    most_common_emotion = class_names[most_common_idx]\n",
        "\n",
        "    print(f\" Detected Dominant Emotion: {most_common_emotion}\")\n",
        "    print(\"Message:\", emotion_to_message[most_common_emotion])\n",
        "\n",
        "    wandb.log({\n",
        "        \"confusion_matrix\": wandb.plot.confusion_matrix(\n",
        "            probs=None,\n",
        "            y_true=y_true,\n",
        "            preds=y_pred,\n",
        "            class_names=class_names\n",
        "        )\n",
        "    })\n",
        "    wandb.finish()\n",
        "\n",
        "\n",
        "    model_results[config[\"name\"]] = final_acc\n",
        "    model_metrics[config[\"name\"]] = {\n",
        "        \"train_acc\": train_accs, \"val_acc\": val_accs,\n",
        "        \"train_loss\": train_losses, \"val_loss\": val_losses,\n",
        "        \"time\": elapsed\n",
        "    }\n",
        "    model_conf_matrices[config[\"name\"]] = confusion_matrix(y_true, y_pred)\n",
        "\n",
        "    if final_acc > best_acc:\n",
        "        best_acc = final_acc\n",
        "        best_model = model\n",
        "        best_y_pred = y_pred\n",
        "        torch.save(best_model.state_dict(), f\"/content/drive/MyDrive/{config['name']}_best_model.pth\")\n",
        "        print(f\" Model saved to: /content/drive/MyDrive/{config['name']}_best_model.pth\")"
      ],
      "metadata": {
        "id": "OuzUHCkmMcGM",
        "colab": {
          "base_uri": "https://localhost:8080/",
          "height": 1000
        },
        "outputId": "2a6390e9-a9be-4c48-e21b-44a9201f1c2b"
      },
      "execution_count": 15,
      "outputs": [
        {
          "output_type": "stream",
          "name": "stderr",
          "text": [
            "/usr/local/lib/python3.11/dist-packages/torchvision/models/_utils.py:208: UserWarning: The parameter 'pretrained' is deprecated since 0.13 and may be removed in the future, please use 'weights' instead.\n",
            "  warnings.warn(\n",
            "/usr/local/lib/python3.11/dist-packages/torchvision/models/_utils.py:223: UserWarning: Arguments other than a weight enum or `None` for 'weights' are deprecated since 0.13 and may be removed in the future. The current behavior is equivalent to passing `weights=VGG16_Weights.IMAGENET1K_V1`. You can also use `weights=VGG16_Weights.DEFAULT` to get the most up-to-date weights.\n",
            "  warnings.warn(msg)\n"
          ]
        },
        {
          "output_type": "stream",
          "name": "stdout",
          "text": [
            "\n",
            " Training ResNet18_Pretrained...\n"
          ]
        },
        {
          "output_type": "display_data",
          "data": {
            "text/plain": [
              "<IPython.core.display.HTML object>"
            ],
            "text/html": []
          },
          "metadata": {}
        },
        {
          "output_type": "display_data",
          "data": {
            "text/plain": [
              "<IPython.core.display.HTML object>"
            ],
            "text/html": [
              " View run <strong style=\"color:#cdcd00\">VGGFace_Finetuned</strong> at: <a href='https://wandb.ai/shubhd-raut2001-iiit-hyderabad/EmotionRecognition/runs/1x53e2hw' target=\"_blank\">https://wandb.ai/shubhd-raut2001-iiit-hyderabad/EmotionRecognition/runs/1x53e2hw</a><br> View project at: <a href='https://wandb.ai/shubhd-raut2001-iiit-hyderabad/EmotionRecognition' target=\"_blank\">https://wandb.ai/shubhd-raut2001-iiit-hyderabad/EmotionRecognition</a><br>Synced 5 W&B file(s), 0 media file(s), 0 artifact file(s) and 0 other file(s)"
            ]
          },
          "metadata": {}
        },
        {
          "output_type": "display_data",
          "data": {
            "text/plain": [
              "<IPython.core.display.HTML object>"
            ],
            "text/html": [
              "Find logs at: <code>./wandb/run-20250422_164313-1x53e2hw/logs</code>"
            ]
          },
          "metadata": {}
        },
        {
          "output_type": "display_data",
          "data": {
            "text/plain": [
              "<IPython.core.display.HTML object>"
            ],
            "text/html": [
              "Tracking run with wandb version 0.19.9"
            ]
          },
          "metadata": {}
        },
        {
          "output_type": "display_data",
          "data": {
            "text/plain": [
              "<IPython.core.display.HTML object>"
            ],
            "text/html": [
              "Run data is saved locally in <code>/content/wandb/run-20250422_164559-jgbknmb5</code>"
            ]
          },
          "metadata": {}
        },
        {
          "output_type": "display_data",
          "data": {
            "text/plain": [
              "<IPython.core.display.HTML object>"
            ],
            "text/html": [
              "Syncing run <strong><a href='https://wandb.ai/shubhd-raut2001-iiit-hyderabad/EmotionRecognition/runs/jgbknmb5' target=\"_blank\">ResNet18_Pretrained</a></strong> to <a href='https://wandb.ai/shubhd-raut2001-iiit-hyderabad/EmotionRecognition' target=\"_blank\">Weights & Biases</a> (<a href='https://wandb.me/developer-guide' target=\"_blank\">docs</a>)<br>"
            ]
          },
          "metadata": {}
        },
        {
          "output_type": "display_data",
          "data": {
            "text/plain": [
              "<IPython.core.display.HTML object>"
            ],
            "text/html": [
              " View project at <a href='https://wandb.ai/shubhd-raut2001-iiit-hyderabad/EmotionRecognition' target=\"_blank\">https://wandb.ai/shubhd-raut2001-iiit-hyderabad/EmotionRecognition</a>"
            ]
          },
          "metadata": {}
        },
        {
          "output_type": "display_data",
          "data": {
            "text/plain": [
              "<IPython.core.display.HTML object>"
            ],
            "text/html": [
              " View run at <a href='https://wandb.ai/shubhd-raut2001-iiit-hyderabad/EmotionRecognition/runs/jgbknmb5' target=\"_blank\">https://wandb.ai/shubhd-raut2001-iiit-hyderabad/EmotionRecognition/runs/jgbknmb5</a>"
            ]
          },
          "metadata": {}
        },
        {
          "output_type": "stream",
          "name": "stdout",
          "text": [
            "Epoch 1: Train Acc = 0.5444, Val Acc = 0.4259\n",
            "Epoch 2: Train Acc = 0.8177, Val Acc = 0.5926\n",
            "Epoch 3: Train Acc = 0.8573, Val Acc = 0.6620\n",
            "Epoch 4: Train Acc = 0.8717, Val Acc = 0.8241\n",
            "Epoch 5: Train Acc = 0.9293, Val Acc = 0.8657\n",
            "Epoch 6: Train Acc = 0.9365, Val Acc = 0.8241\n",
            "Epoch 7: Train Acc = 0.8417, Val Acc = 0.5648\n",
            "Epoch 8: Train Acc = 0.8933, Val Acc = 0.7685\n",
            "Epoch 9: Train Acc = 0.9017, Val Acc = 0.8426\n",
            "Epoch 10: Train Acc = 0.9197, Val Acc = 0.8611\n",
            "\n",
            " Time: 54.06s\n",
            " Classification Report:\n",
            "              precision    recall  f1-score   support\n",
            "\n",
            "       happy       1.00      0.64      0.78        78\n",
            "         sad       0.90      1.00      0.95        75\n",
            "       angry       0.73      0.97      0.84        63\n",
            "\n",
            "    accuracy                           0.86       216\n",
            "   macro avg       0.88      0.87      0.86       216\n",
            "weighted avg       0.89      0.86      0.86       216\n",
            "\n",
            " Detected Dominant Emotion: angry\n",
            "Message: 😠 Breathe and relax!\n"
          ]
        },
        {
          "output_type": "display_data",
          "data": {
            "text/plain": [
              "<IPython.core.display.HTML object>"
            ],
            "text/html": []
          },
          "metadata": {}
        },
        {
          "output_type": "display_data",
          "data": {
            "text/plain": [
              "<IPython.core.display.HTML object>"
            ],
            "text/html": [
              "<br>    <style><br>        .wandb-row {<br>            display: flex;<br>            flex-direction: row;<br>            flex-wrap: wrap;<br>            justify-content: flex-start;<br>            width: 100%;<br>        }<br>        .wandb-col {<br>            display: flex;<br>            flex-direction: column;<br>            flex-basis: 100%;<br>            flex: 1;<br>            padding: 10px;<br>        }<br>    </style><br><div class=\"wandb-row\"><div class=\"wandb-col\"><h3>Run history:</h3><br/><table class=\"wandb\"><tr><td>epoch</td><td>▁▂▃▃▄▅▆▆▇█</td></tr><tr><td>train_acc</td><td>▁▆▇▇██▆▇▇█</td></tr><tr><td>train_loss</td><td>█▄▃▂▁▂▃▂▂▃</td></tr><tr><td>val_acc</td><td>▁▄▅▇█▇▃▆██</td></tr><tr><td>val_loss</td><td>█▃▂▂▁▁▂▂▁▁</td></tr></table><br/></div><div class=\"wandb-col\"><h3>Run summary:</h3><br/><table class=\"wandb\"><tr><td>epoch</td><td>10</td></tr><tr><td>train_acc</td><td>0.91966</td></tr><tr><td>train_loss</td><td>0.43598</td></tr><tr><td>val_acc</td><td>0.86111</td></tr><tr><td>val_loss</td><td>0.52533</td></tr></table><br/></div></div>"
            ]
          },
          "metadata": {}
        },
        {
          "output_type": "display_data",
          "data": {
            "text/plain": [
              "<IPython.core.display.HTML object>"
            ],
            "text/html": [
              " View run <strong style=\"color:#cdcd00\">ResNet18_Pretrained</strong> at: <a href='https://wandb.ai/shubhd-raut2001-iiit-hyderabad/EmotionRecognition/runs/jgbknmb5' target=\"_blank\">https://wandb.ai/shubhd-raut2001-iiit-hyderabad/EmotionRecognition/runs/jgbknmb5</a><br> View project at: <a href='https://wandb.ai/shubhd-raut2001-iiit-hyderabad/EmotionRecognition' target=\"_blank\">https://wandb.ai/shubhd-raut2001-iiit-hyderabad/EmotionRecognition</a><br>Synced 5 W&B file(s), 1 media file(s), 2 artifact file(s) and 0 other file(s)"
            ]
          },
          "metadata": {}
        },
        {
          "output_type": "display_data",
          "data": {
            "text/plain": [
              "<IPython.core.display.HTML object>"
            ],
            "text/html": [
              "Find logs at: <code>./wandb/run-20250422_164559-jgbknmb5/logs</code>"
            ]
          },
          "metadata": {}
        },
        {
          "output_type": "stream",
          "name": "stdout",
          "text": [
            " Model saved to: /content/drive/MyDrive/ResNet18_Pretrained_best_model.pth\n",
            "\n",
            " Training ResNet18_Scratch...\n"
          ]
        },
        {
          "output_type": "display_data",
          "data": {
            "text/plain": [
              "<IPython.core.display.HTML object>"
            ],
            "text/html": [
              "Tracking run with wandb version 0.19.9"
            ]
          },
          "metadata": {}
        },
        {
          "output_type": "display_data",
          "data": {
            "text/plain": [
              "<IPython.core.display.HTML object>"
            ],
            "text/html": [
              "Run data is saved locally in <code>/content/wandb/run-20250422_164657-33tvqmcv</code>"
            ]
          },
          "metadata": {}
        },
        {
          "output_type": "display_data",
          "data": {
            "text/plain": [
              "<IPython.core.display.HTML object>"
            ],
            "text/html": [
              "Syncing run <strong><a href='https://wandb.ai/shubhd-raut2001-iiit-hyderabad/EmotionRecognition/runs/33tvqmcv' target=\"_blank\">ResNet18_Scratch</a></strong> to <a href='https://wandb.ai/shubhd-raut2001-iiit-hyderabad/EmotionRecognition' target=\"_blank\">Weights & Biases</a> (<a href='https://wandb.me/developer-guide' target=\"_blank\">docs</a>)<br>"
            ]
          },
          "metadata": {}
        },
        {
          "output_type": "display_data",
          "data": {
            "text/plain": [
              "<IPython.core.display.HTML object>"
            ],
            "text/html": [
              " View project at <a href='https://wandb.ai/shubhd-raut2001-iiit-hyderabad/EmotionRecognition' target=\"_blank\">https://wandb.ai/shubhd-raut2001-iiit-hyderabad/EmotionRecognition</a>"
            ]
          },
          "metadata": {}
        },
        {
          "output_type": "display_data",
          "data": {
            "text/plain": [
              "<IPython.core.display.HTML object>"
            ],
            "text/html": [
              " View run at <a href='https://wandb.ai/shubhd-raut2001-iiit-hyderabad/EmotionRecognition/runs/33tvqmcv' target=\"_blank\">https://wandb.ai/shubhd-raut2001-iiit-hyderabad/EmotionRecognition/runs/33tvqmcv</a>"
            ]
          },
          "metadata": {}
        },
        {
          "output_type": "stream",
          "name": "stdout",
          "text": [
            "Epoch 1: Train Acc = 0.3801, Val Acc = 0.3519\n",
            "Epoch 2: Train Acc = 0.4616, Val Acc = 0.3565\n",
            "Epoch 3: Train Acc = 0.5276, Val Acc = 0.4167\n",
            "Epoch 4: Train Acc = 0.5683, Val Acc = 0.4213\n",
            "Epoch 5: Train Acc = 0.6211, Val Acc = 0.4769\n",
            "Epoch 6: Train Acc = 0.6247, Val Acc = 0.5926\n",
            "Epoch 7: Train Acc = 0.7026, Val Acc = 0.4352\n",
            "Epoch 8: Train Acc = 0.6906, Val Acc = 0.6944\n",
            "Epoch 9: Train Acc = 0.7302, Val Acc = 0.3472\n",
            "Epoch 10: Train Acc = 0.7314, Val Acc = 0.6806\n",
            "\n",
            " Time: 53.29s\n",
            " Classification Report:\n",
            "              precision    recall  f1-score   support\n",
            "\n",
            "       happy       0.85      0.50      0.63        78\n",
            "         sad       0.63      0.83      0.71        75\n",
            "       angry       0.65      0.73      0.69        63\n",
            "\n",
            "    accuracy                           0.68       216\n",
            "   macro avg       0.71      0.69      0.68       216\n",
            "weighted avg       0.71      0.68      0.67       216\n",
            "\n",
            " Detected Dominant Emotion: sad\n",
            "Message: 😢 Stay strong!\n"
          ]
        },
        {
          "output_type": "display_data",
          "data": {
            "text/plain": [
              "<IPython.core.display.HTML object>"
            ],
            "text/html": []
          },
          "metadata": {}
        },
        {
          "output_type": "display_data",
          "data": {
            "text/plain": [
              "<IPython.core.display.HTML object>"
            ],
            "text/html": [
              "<br>    <style><br>        .wandb-row {<br>            display: flex;<br>            flex-direction: row;<br>            flex-wrap: wrap;<br>            justify-content: flex-start;<br>            width: 100%;<br>        }<br>        .wandb-col {<br>            display: flex;<br>            flex-direction: column;<br>            flex-basis: 100%;<br>            flex: 1;<br>            padding: 10px;<br>        }<br>    </style><br><div class=\"wandb-row\"><div class=\"wandb-col\"><h3>Run history:</h3><br/><table class=\"wandb\"><tr><td>epoch</td><td>▁▂▃▃▄▅▆▆▇█</td></tr><tr><td>train_acc</td><td>▁▃▄▅▆▆▇▇██</td></tr><tr><td>train_loss</td><td>█▅▄▄▃▃▂▁▁▁</td></tr><tr><td>val_acc</td><td>▁▁▂▂▄▆▃█▁█</td></tr><tr><td>val_loss</td><td>▆▂▂▂▂▁▃▁█▁</td></tr></table><br/></div><div class=\"wandb-col\"><h3>Run summary:</h3><br/><table class=\"wandb\"><tr><td>epoch</td><td>10</td></tr><tr><td>train_acc</td><td>0.73141</td></tr><tr><td>train_loss</td><td>0.69701</td></tr><tr><td>val_acc</td><td>0.68056</td></tr><tr><td>val_loss</td><td>0.98889</td></tr></table><br/></div></div>"
            ]
          },
          "metadata": {}
        },
        {
          "output_type": "display_data",
          "data": {
            "text/plain": [
              "<IPython.core.display.HTML object>"
            ],
            "text/html": [
              " View run <strong style=\"color:#cdcd00\">ResNet18_Scratch</strong> at: <a href='https://wandb.ai/shubhd-raut2001-iiit-hyderabad/EmotionRecognition/runs/33tvqmcv' target=\"_blank\">https://wandb.ai/shubhd-raut2001-iiit-hyderabad/EmotionRecognition/runs/33tvqmcv</a><br> View project at: <a href='https://wandb.ai/shubhd-raut2001-iiit-hyderabad/EmotionRecognition' target=\"_blank\">https://wandb.ai/shubhd-raut2001-iiit-hyderabad/EmotionRecognition</a><br>Synced 5 W&B file(s), 1 media file(s), 2 artifact file(s) and 0 other file(s)"
            ]
          },
          "metadata": {}
        },
        {
          "output_type": "display_data",
          "data": {
            "text/plain": [
              "<IPython.core.display.HTML object>"
            ],
            "text/html": [
              "Find logs at: <code>./wandb/run-20250422_164657-33tvqmcv/logs</code>"
            ]
          },
          "metadata": {}
        },
        {
          "output_type": "stream",
          "name": "stdout",
          "text": [
            "\n",
            " Training VGGFace_Finetuned...\n"
          ]
        },
        {
          "output_type": "display_data",
          "data": {
            "text/plain": [
              "<IPython.core.display.HTML object>"
            ],
            "text/html": [
              "Tracking run with wandb version 0.19.9"
            ]
          },
          "metadata": {}
        },
        {
          "output_type": "display_data",
          "data": {
            "text/plain": [
              "<IPython.core.display.HTML object>"
            ],
            "text/html": [
              "Run data is saved locally in <code>/content/wandb/run-20250422_164754-wpglpfp8</code>"
            ]
          },
          "metadata": {}
        },
        {
          "output_type": "display_data",
          "data": {
            "text/plain": [
              "<IPython.core.display.HTML object>"
            ],
            "text/html": [
              "Syncing run <strong><a href='https://wandb.ai/shubhd-raut2001-iiit-hyderabad/EmotionRecognition/runs/wpglpfp8' target=\"_blank\">VGGFace_Finetuned</a></strong> to <a href='https://wandb.ai/shubhd-raut2001-iiit-hyderabad/EmotionRecognition' target=\"_blank\">Weights & Biases</a> (<a href='https://wandb.me/developer-guide' target=\"_blank\">docs</a>)<br>"
            ]
          },
          "metadata": {}
        },
        {
          "output_type": "display_data",
          "data": {
            "text/plain": [
              "<IPython.core.display.HTML object>"
            ],
            "text/html": [
              " View project at <a href='https://wandb.ai/shubhd-raut2001-iiit-hyderabad/EmotionRecognition' target=\"_blank\">https://wandb.ai/shubhd-raut2001-iiit-hyderabad/EmotionRecognition</a>"
            ]
          },
          "metadata": {}
        },
        {
          "output_type": "display_data",
          "data": {
            "text/plain": [
              "<IPython.core.display.HTML object>"
            ],
            "text/html": [
              " View run at <a href='https://wandb.ai/shubhd-raut2001-iiit-hyderabad/EmotionRecognition/runs/wpglpfp8' target=\"_blank\">https://wandb.ai/shubhd-raut2001-iiit-hyderabad/EmotionRecognition/runs/wpglpfp8</a>"
            ]
          },
          "metadata": {}
        },
        {
          "output_type": "stream",
          "name": "stdout",
          "text": [
            "Epoch 1: Train Acc = 0.3609, Val Acc = 0.3611\n",
            "Epoch 2: Train Acc = 0.3897, Val Acc = 0.3611\n",
            "Epoch 3: Train Acc = 0.3861, Val Acc = 0.3611\n",
            "Epoch 4: Train Acc = 0.3861, Val Acc = 0.3611\n",
            "Epoch 5: Train Acc = 0.3861, Val Acc = 0.3611\n",
            "Epoch 6: Train Acc = 0.3861, Val Acc = 0.3611\n",
            "Epoch 7: Train Acc = 0.3861, Val Acc = 0.3611\n",
            "Epoch 8: Train Acc = 0.3861, Val Acc = 0.3611\n",
            "Epoch 9: Train Acc = 0.3861, Val Acc = 0.3611\n",
            "Epoch 10: Train Acc = 0.3861, Val Acc = 0.3611\n",
            "\n",
            " Time: 155.62s\n",
            " Classification Report:\n",
            "              precision    recall  f1-score   support\n",
            "\n",
            "       happy       0.36      1.00      0.53        78\n",
            "         sad       0.00      0.00      0.00        75\n",
            "       angry       0.00      0.00      0.00        63\n",
            "\n",
            "    accuracy                           0.36       216\n",
            "   macro avg       0.12      0.33      0.18       216\n",
            "weighted avg       0.13      0.36      0.19       216\n",
            "\n",
            " Detected Dominant Emotion: happy\n",
            "Message: 😊 You're glowing!\n"
          ]
        },
        {
          "output_type": "stream",
          "name": "stderr",
          "text": [
            "/usr/local/lib/python3.11/dist-packages/sklearn/metrics/_classification.py:1565: UndefinedMetricWarning: Precision is ill-defined and being set to 0.0 in labels with no predicted samples. Use `zero_division` parameter to control this behavior.\n",
            "  _warn_prf(average, modifier, f\"{metric.capitalize()} is\", len(result))\n",
            "/usr/local/lib/python3.11/dist-packages/sklearn/metrics/_classification.py:1565: UndefinedMetricWarning: Precision is ill-defined and being set to 0.0 in labels with no predicted samples. Use `zero_division` parameter to control this behavior.\n",
            "  _warn_prf(average, modifier, f\"{metric.capitalize()} is\", len(result))\n",
            "/usr/local/lib/python3.11/dist-packages/sklearn/metrics/_classification.py:1565: UndefinedMetricWarning: Precision is ill-defined and being set to 0.0 in labels with no predicted samples. Use `zero_division` parameter to control this behavior.\n",
            "  _warn_prf(average, modifier, f\"{metric.capitalize()} is\", len(result))\n"
          ]
        },
        {
          "output_type": "display_data",
          "data": {
            "text/plain": [
              "<IPython.core.display.HTML object>"
            ],
            "text/html": []
          },
          "metadata": {}
        },
        {
          "output_type": "display_data",
          "data": {
            "text/plain": [
              "<IPython.core.display.HTML object>"
            ],
            "text/html": [
              "<br>    <style><br>        .wandb-row {<br>            display: flex;<br>            flex-direction: row;<br>            flex-wrap: wrap;<br>            justify-content: flex-start;<br>            width: 100%;<br>        }<br>        .wandb-col {<br>            display: flex;<br>            flex-direction: column;<br>            flex-basis: 100%;<br>            flex: 1;<br>            padding: 10px;<br>        }<br>    </style><br><div class=\"wandb-row\"><div class=\"wandb-col\"><h3>Run history:</h3><br/><table class=\"wandb\"><tr><td>epoch</td><td>▁▂▃▃▄▅▆▆▇█</td></tr><tr><td>train_acc</td><td>▁█▇▇▇▇▇▇▇▇</td></tr><tr><td>train_loss</td><td>█▂▁▁▁▁▁▁▁▁</td></tr><tr><td>val_acc</td><td>▁▁▁▁▁▁▁▁▁▁</td></tr><tr><td>val_loss</td><td>▆▁▂█▄▃▃▃▅▂</td></tr></table><br/></div><div class=\"wandb-col\"><h3>Run summary:</h3><br/><table class=\"wandb\"><tr><td>epoch</td><td>10</td></tr><tr><td>train_acc</td><td>0.38609</td></tr><tr><td>train_loss</td><td>1.09706</td></tr><tr><td>val_acc</td><td>0.36111</td></tr><tr><td>val_loss</td><td>1.09981</td></tr></table><br/></div></div>"
            ]
          },
          "metadata": {}
        },
        {
          "output_type": "display_data",
          "data": {
            "text/plain": [
              "<IPython.core.display.HTML object>"
            ],
            "text/html": [
              " View run <strong style=\"color:#cdcd00\">VGGFace_Finetuned</strong> at: <a href='https://wandb.ai/shubhd-raut2001-iiit-hyderabad/EmotionRecognition/runs/wpglpfp8' target=\"_blank\">https://wandb.ai/shubhd-raut2001-iiit-hyderabad/EmotionRecognition/runs/wpglpfp8</a><br> View project at: <a href='https://wandb.ai/shubhd-raut2001-iiit-hyderabad/EmotionRecognition' target=\"_blank\">https://wandb.ai/shubhd-raut2001-iiit-hyderabad/EmotionRecognition</a><br>Synced 5 W&B file(s), 1 media file(s), 2 artifact file(s) and 0 other file(s)"
            ]
          },
          "metadata": {}
        },
        {
          "output_type": "display_data",
          "data": {
            "text/plain": [
              "<IPython.core.display.HTML object>"
            ],
            "text/html": [
              "Find logs at: <code>./wandb/run-20250422_164754-wpglpfp8/logs</code>"
            ]
          },
          "metadata": {}
        }
      ]
    },
    {
      "cell_type": "code",
      "source": [
        "# ✅ 8. Visualizations\n",
        "plt.figure(figsize=(8, 5))\n",
        "plt.bar(model_results.keys(), model_results.values(), color='skyblue')\n",
        "plt.title(\"Model Accuracy Comparison\")\n",
        "plt.ylabel(\"Validation Accuracy\")\n",
        "plt.ylim(0, 1)\n",
        "plt.grid(True, linestyle='--', alpha=0.6)\n",
        "plt.tight_layout()\n",
        "plt.show()\n",
        "\n",
        "fig, axes = plt.subplots(1, 3, figsize=(18, 5))\n",
        "for ax, (model_name, cm) in zip(axes, model_conf_matrices.items()):\n",
        "    sns.heatmap(cm, annot=True, fmt='d', xticklabels=class_names,\n",
        "                yticklabels=class_names, cmap='Blues', ax=ax)\n",
        "    ax.set_title(model_name)\n",
        "    ax.set_xlabel(\"Predicted\")\n",
        "    ax.set_ylabel(\"True\")\n",
        "plt.tight_layout()\n",
        "plt.show()"
      ],
      "metadata": {
        "id": "igg5p8QeMiDP",
        "colab": {
          "base_uri": "https://localhost:8080/",
          "height": 989
        },
        "outputId": "6c8f281b-49ec-4ee6-828b-496851c45b07"
      },
      "execution_count": 16,
      "outputs": [
        {
          "output_type": "display_data",
          "data": {
            "text/plain": [
              "<Figure size 800x500 with 1 Axes>"
            ],
            "image/png": "[encoded data removed]"
          },
          "metadata": {}
        },
        {
          "output_type": "display_data",
          "data": {
            "text/plain": [
              "<Figure size 1800x500 with 6 Axes>"
            ],
            "image/png": "[encoded data removed]"
          },
          "metadata": {}
        }
      ]
    },
    {
      "cell_type": "code",
      "source": [
        "# ✅ 9. Save CSV\n",
        "all_test_images = []\n",
        "for emotion in class_names:\n",
        "    emotion_folder = os.path.join(DATA_ROOT, \"Test\", emotion)\n",
        "    all_test_images.extend(sorted(glob.glob(os.path.join(emotion_folder, \"*\"))))\n",
        "\n",
        "if len(all_test_images) == len(test_labels):\n",
        "    annotation_df = pd.DataFrame({\n",
        "        \"image_name\": [os.path.basename(path) for path in all_test_images],\n",
        "        \"true_emotion\": [class_names[i] for i in test_labels],\n",
        "        \"predicted_emotion\": [class_names[i] for i in best_y_pred]\n",
        "    })\n",
        "    annotation_df.to_csv(\"/content/drive/MyDrive/annotations.csv\", index=False)\n",
        "    print(\" annotations.csv saved.\")\n",
        "    display(annotation_df.head())\n",
        "else:\n",
        "    print(\" Image count mismatch: CSV not saved.\")"
      ],
      "metadata": {
        "id": "0WqUonQpMnrZ",
        "colab": {
          "base_uri": "https://localhost:8080/",
          "height": 224
        },
        "outputId": "605768b1-a152-4dc6-fe90-2ef6914db7b4"
      },
      "execution_count": 17,
      "outputs": [
        {
          "output_type": "stream",
          "name": "stdout",
          "text": [
            " annotations.csv saved.\n"
          ]
        },
        {
          "output_type": "display_data",
          "data": {
            "text/plain": [
              "             image_name true_emotion predicted_emotion\n",
              "0  aug_0_image_0006.jpg        happy             happy\n",
              "1  aug_0_image_0007.jpg        happy             happy\n",
              "2  aug_0_image_0008.jpg        happy             angry\n",
              "3  aug_0_image_0009.jpg        happy             happy\n",
              "4  aug_1_image_0000.jpg        happy               sad"
            ],
            "text/html": [
              "\n",
              "  <div id=\"df-b8f52f42-1c66-499f-959f-c7e0cceefea6\" class=\"colab-df-container\">\n",
              "    <div>\n",
              "<style scoped>\n",
              "    .dataframe tbody tr th:only-of-type {\n",
              "        vertical-align: middle;\n",
              "    }\n",
              "\n",
              "    .dataframe tbody tr th {\n",
              "        vertical-align: top;\n",
              "    }\n",
              "\n",
              "    .dataframe thead th {\n",
              "        text-align: right;\n",
              "    }\n",
              "</style>\n",
              "<table border=\"1\" class=\"dataframe\">\n",
              "  <thead>\n",
              "    <tr style=\"text-align: right;\">\n",
              "      <th></th>\n",
              "      <th>image_name</th>\n",
              "      <th>true_emotion</th>\n",
              "      <th>predicted_emotion</th>\n",
              "    </tr>\n",
              "  </thead>\n",
              "  <tbody>\n",
              "    <tr>\n",
              "      <th>0</th>\n",
              "      <td>aug_0_image_0006.jpg</td>\n",
              "      <td>happy</td>\n",
              "      <td>happy</td>\n",
              "    </tr>\n",
              "    <tr>\n",
              "      <th>1</th>\n",
              "      <td>aug_0_image_0007.jpg</td>\n",
              "      <td>happy</td>\n",
              "      <td>happy</td>\n",
              "    </tr>\n",
              "    <tr>\n",
              "      <th>2</th>\n",
              "      <td>aug_0_image_0008.jpg</td>\n",
              "      <td>happy</td>\n",
              "      <td>angry</td>\n",
              "    </tr>\n",
              "    <tr>\n",
              "      <th>3</th>\n",
              "      <td>aug_0_image_0009.jpg</td>\n",
              "      <td>happy</td>\n",
              "      <td>happy</td>\n",
              "    </tr>\n",
              "    <tr>\n",
              "      <th>4</th>\n",
              "      <td>aug_1_image_0000.jpg</td>\n",
              "      <td>happy</td>\n",
              "      <td>sad</td>\n",
              "    </tr>\n",
              "  </tbody>\n",
              "</table>\n",
              "</div>\n",
              "    <div class=\"colab-df-buttons\">\n",
              "\n",
              "  <div class=\"colab-df-container\">\n",
              "    <button class=\"colab-df-convert\" onclick=\"convertToInteractive('df-b8f52f42-1c66-499f-959f-c7e0cceefea6')\"\n",
              "            title=\"Convert this dataframe to an interactive table.\"\n",
              "            style=\"display:none;\">\n",
              "\n",
              "  <svg xmlns=\"http://www.w3.org/2000/svg\" height=\"24px\" viewBox=\"0 -960 960 960\">\n",
              "    <path d=\"M120-120v-720h720v720H120Zm60-500h600v-160H180v160Zm220 220h160v-160H400v160Zm0 220h160v-160H400v160ZM180-400h160v-160H180v160Zm440 0h160v-160H620v160ZM180-180h160v-160H180v160Zm440 0h160v-160H620v160Z\"/>\n",
              "  </svg>\n",
              "    </button>\n",
              "\n",
              "  <style>\n",
              "    .colab-df-container {\n",
              "      display:flex;\n",
              "      gap: 12px;\n",
              "    }\n",
              "\n",
              "    .colab-df-convert {\n",
              "      background-color: #E8F0FE;\n",
              "      border: none;\n",
              "      border-radius: 50%;\n",
              "      cursor: pointer;\n",
              "      display: none;\n",
              "      fill: #1967D2;\n",
              "      height: 32px;\n",
              "      padding: 0 0 0 0;\n",
              "      width: 32px;\n",
              "    }\n",
              "\n",
              "    .colab-df-convert:hover {\n",
              "      background-color: #E2EBFA;\n",
              "      box-shadow: 0px 1px 2px rgba(60, 64, 67, 0.3), 0px 1px 3px 1px rgba(60, 64, 67, 0.15);\n",
              "      fill: #174EA6;\n",
              "    }\n",
              "\n",
              "    .colab-df-buttons div {\n",
              "      margin-bottom: 4px;\n",
              "    }\n",
              "\n",
              "    [theme=dark] .colab-df-convert {\n",
              "      background-color: #3B4455;\n",
              "      fill: #D2E3FC;\n",
              "    }\n",
              "\n",
              "    [theme=dark] .colab-df-convert:hover {\n",
              "      background-color: #434B5C;\n",
              "      box-shadow: 0px 1px 3px 1px rgba(0, 0, 0, 0.15);\n",
              "      filter: drop-shadow(0px 1px 2px rgba(0, 0, 0, 0.3));\n",
              "      fill: #FFFFFF;\n",
              "    }\n",
              "  </style>\n",
              "\n",
              "    <script>\n",
              "      const buttonEl =\n",
              "        document.querySelector('#df-b8f52f42-1c66-499f-959f-c7e0cceefea6 button.colab-df-convert');\n",
              "      buttonEl.style.display =\n",
              "        google.colab.kernel.accessAllowed ? 'block' : 'none';\n",
              "\n",
              "      async function convertToInteractive(key) {\n",
              "        const element = document.querySelector('#df-b8f52f42-1c66-499f-959f-c7e0cceefea6');\n",
              "        const dataTable =\n",
              "          await google.colab.kernel.invokeFunction('convertToInteractive',\n",
              "                                                    [key], {});\n",
              "        if (!dataTable) return;\n",
              "\n",
              "        const docLinkHtml = 'Like what you see? Visit the ' +\n",
              "          '<a target=\"_blank\" href=https://colab.research.google.com/notebooks/data_table.ipynb>data table notebook</a>'\n",
              "          + ' to learn more about interactive tables.';\n",
              "        element.innerHTML = '';\n",
              "        dataTable['output_type'] = 'display_data';\n",
              "        await google.colab.output.renderOutput(dataTable, element);\n",
              "        const docLink = document.createElement('div');\n",
              "        docLink.innerHTML = docLinkHtml;\n",
              "        element.appendChild(docLink);\n",
              "      }\n",
              "    </script>\n",
              "  </div>\n",
              "\n",
              "\n",
              "<div id=\"df-68560a57-292b-4290-9b8d-384e32ffb06b\">\n",
              "  <button class=\"colab-df-quickchart\" onclick=\"quickchart('df-68560a57-292b-4290-9b8d-384e32ffb06b')\"\n",
              "            title=\"Suggest charts\"\n",
              "            style=\"display:none;\">\n",
              "\n",
              "<svg xmlns=\"http://www.w3.org/2000/svg\" height=\"24px\"viewBox=\"0 0 24 24\"\n",
              "     width=\"24px\">\n",
              "    <g>\n",
              "        <path d=\"M19 3H5c-1.1 0-2 .9-2 2v14c0 1.1.9 2 2 2h14c1.1 0 2-.9 2-2V5c0-1.1-.9-2-2-2zM9 17H7v-7h2v7zm4 0h-2V7h2v10zm4 0h-2v-4h2v4z\"/>\n",
              "    </g>\n",
              "</svg>\n",
              "  </button>\n",
              "\n",
              "<style>\n",
              "  .colab-df-quickchart {\n",
              "      --bg-color: #E8F0FE;\n",
              "      --fill-color: #1967D2;\n",
              "      --hover-bg-color: #E2EBFA;\n",
              "      --hover-fill-color: #174EA6;\n",
              "      --disabled-fill-color: #AAA;\n",
              "      --disabled-bg-color: #DDD;\n",
              "  }\n",
              "\n",
              "  [theme=dark] .colab-df-quickchart {\n",
              "      --bg-color: #3B4455;\n",
              "      --fill-color: #D2E3FC;\n",
              "      --hover-bg-color: #434B5C;\n",
              "      --hover-fill-color: #FFFFFF;\n",
              "      --disabled-bg-color: #3B4455;\n",
              "      --disabled-fill-color: #666;\n",
              "  }\n",
              "\n",
              "  .colab-df-quickchart {\n",
              "    background-color: var(--bg-color);\n",
              "    border: none;\n",
              "    border-radius: 50%;\n",
              "    cursor: pointer;\n",
              "    display: none;\n",
              "    fill: var(--fill-color);\n",
              "    height: 32px;\n",
              "    padding: 0;\n",
              "    width: 32px;\n",
              "  }\n",
              "\n",
              "  .colab-df-quickchart:hover {\n",
              "    background-color: var(--hover-bg-color);\n",
              "    box-shadow: 0 1px 2px rgba(60, 64, 67, 0.3), 0 1px 3px 1px rgba(60, 64, 67, 0.15);\n",
              "    fill: var(--button-hover-fill-color);\n",
              "  }\n",
              "\n",
              "  .colab-df-quickchart-complete:disabled,\n",
              "  .colab-df-quickchart-complete:disabled:hover {\n",
              "    background-color: var(--disabled-bg-color);\n",
              "    fill: var(--disabled-fill-color);\n",
              "    box-shadow: none;\n",
              "  }\n",
              "\n",
              "  .colab-df-spinner {\n",
              "    border: 2px solid var(--fill-color);\n",
              "    border-color: transparent;\n",
              "    border-bottom-color: var(--fill-color);\n",
              "    animation:\n",
              "      spin 1s steps(1) infinite;\n",
              "  }\n",
              "\n",
              "  @keyframes spin {\n",
              "    0% {\n",
              "      border-color: transparent;\n",
              "      border-bottom-color: var(--fill-color);\n",
              "      border-left-color: var(--fill-color);\n",
              "    }\n",
              "    20% {\n",
              "      border-color: transparent;\n",
              "      border-left-color: var(--fill-color);\n",
              "      border-top-color: var(--fill-color);\n",
              "    }\n",
              "    30% {\n",
              "      border-color: transparent;\n",
              "      border-left-color: var(--fill-color);\n",
              "      border-top-color: var(--fill-color);\n",
              "      border-right-color: var(--fill-color);\n",
              "    }\n",
              "    40% {\n",
              "      border-color: transparent;\n",
              "      border-right-color: var(--fill-color);\n",
              "      border-top-color: var(--fill-color);\n",
              "    }\n",
              "    60% {\n",
              "      border-color: transparent;\n",
              "      border-right-color: var(--fill-color);\n",
              "    }\n",
              "    80% {\n",
              "      border-color: transparent;\n",
              "      border-right-color: var(--fill-color);\n",
              "      border-bottom-color: var(--fill-color);\n",
              "    }\n",
              "    90% {\n",
              "      border-color: transparent;\n",
              "      border-bottom-color: var(--fill-color);\n",
              "    }\n",
              "  }\n",
              "</style>\n",
              "\n",
              "  <script>\n",
              "    async function quickchart(key) {\n",
              "      const quickchartButtonEl =\n",
              "        document.querySelector('#' + key + ' button');\n",
              "      quickchartButtonEl.disabled = true;  // To prevent multiple clicks.\n",
              "      quickchartButtonEl.classList.add('colab-df-spinner');\n",
              "      try {\n",
              "        const charts = await google.colab.kernel.invokeFunction(\n",
              "            'suggestCharts', [key], {});\n",
              "      } catch (error) {\n",
              "        console.error('Error during call to suggestCharts:', error);\n",
              "      }\n",
              "      quickchartButtonEl.classList.remove('colab-df-spinner');\n",
              "      quickchartButtonEl.classList.add('colab-df-quickchart-complete');\n",
              "    }\n",
              "    (() => {\n",
              "      let quickchartButtonEl =\n",
              "        document.querySelector('#df-68560a57-292b-4290-9b8d-384e32ffb06b button');\n",
              "      quickchartButtonEl.style.display =\n",
              "        google.colab.kernel.accessAllowed ? 'block' : 'none';\n",
              "    })();\n",
              "  </script>\n",
              "</div>\n",
              "\n",
              "    </div>\n",
              "  </div>\n"
            ],
            "application/vnd.google.colaboratory.intrinsic+json": {
              "type": "dataframe",
              "summary": "{\n  \"name\": \"    print(\\\" Image count mismatch: CSV not saved\",\n  \"rows\": 5,\n  \"fields\": [\n    {\n      \"column\": \"image_name\",\n      \"properties\": {\n        \"dtype\": \"string\",\n        \"num_unique_values\": 5,\n        \"samples\": [\n          \"aug_0_image_0007.jpg\",\n          \"aug_1_image_0000.jpg\",\n          \"aug_0_image_0008.jpg\"\n        ],\n        \"semantic_type\": \"\",\n        \"description\": \"\"\n      }\n    },\n    {\n      \"column\": \"true_emotion\",\n      \"properties\": {\n        \"dtype\": \"category\",\n        \"num_unique_values\": 1,\n        \"samples\": [\n          \"happy\"\n        ],\n        \"semantic_type\": \"\",\n        \"description\": \"\"\n      }\n    },\n    {\n      \"column\": \"predicted_emotion\",\n      \"properties\": {\n        \"dtype\": \"string\",\n        \"num_unique_values\": 3,\n        \"samples\": [\n          \"happy\"\n        ],\n        \"semantic_type\": \"\",\n        \"description\": \"\"\n      }\n    }\n  ]\n}"
            }
          },
          "metadata": {}
        }
      ]
    },
    {
      "cell_type": "code",
      "source": [
        "!rm -rf /content/emotion_dataset\n",
        "print(\"🧹 Old dataset removed.\")\n"
      ],
      "metadata": {
        "id": "wPbU6o4sMwhX"
      },
      "execution_count": null,
      "outputs": []
    }
  ]
}